{
 "cells": [
  {
   "cell_type": "code",
   "execution_count": 1,
   "id": "48edca70",
   "metadata": {},
   "outputs": [
    {
     "name": "stderr",
     "output_type": "stream",
     "text": [
      "UsageError: unrecognized arguments: # magic comment, untuk memastikan agar setiap output akan di tampilkan pada halaman yang sama\n"
     ]
    }
   ],
   "source": [
    "%matplotlib inline # magic comment, untuk memastikan agar setiap output akan di tampilkan pada halaman yang sama"
   ]
  },
  {
   "cell_type": "code",
   "execution_count": 2,
   "id": "70f4b90b",
   "metadata": {},
   "outputs": [
    {
     "name": "stdout",
     "output_type": "stream",
     "text": [
      "3.3.4\n",
      "1.20.1\n"
     ]
    }
   ],
   "source": [
    "import matplotlib\n",
    "import matplotlib.pyplot as ka #untuk mengimport module\n",
    "import numpy as ii\n",
    "\n",
    "print(matplotlib.__version__)\n",
    "print(ii.__version__)"
   ]
  },
  {
   "cell_type": "code",
   "execution_count": 4,
   "id": "0cb7979e",
   "metadata": {},
   "outputs": [],
   "source": [
    "data_uas=[\n",
    "    ['kai',100],\n",
    "    ['charlos',83],\n",
    "    ['teo',62],\n",
    "    ['ezra', 74],\n",
    "    ['ohan', 71],\n",
    "]"
   ]
  },
  {
   "cell_type": "code",
   "execution_count": 5,
   "id": "ca0b4260",
   "metadata": {},
   "outputs": [
    {
     "data": {
      "text/plain": [
       "[['kai', 100], ['charlos', 83], ['teo', 62], ['ezra', 74], ['ohan', 71]]"
      ]
     },
     "execution_count": 5,
     "metadata": {},
     "output_type": "execute_result"
    }
   ],
   "source": [
    "data_uas"
   ]
  },
  {
   "cell_type": "code",
   "execution_count": 6,
   "id": "3467b12c",
   "metadata": {},
   "outputs": [
    {
     "data": {
      "image/png": "[encoded data removed]",
      "text/plain": [
       "<Figure size 432x288 with 1 Axes>"
      ]
     },
     "metadata": {
      "needs_background": "light"
     },
     "output_type": "display_data"
    }
   ],
   "source": [
    "fig, ax = ka.subplots()\n",
    "table = ka.table(cellText=data_uas,\n",
    "                loc='center')\n",
    "table.set_fontsize(14)\n",
    "table.scale(1,4)\n",
    "\n",
    "ax.axis(False)\n",
    "ka.show()"
   ]
  },
  {
   "cell_type": "code",
   "execution_count": 7,
   "id": "0276b631",
   "metadata": {},
   "outputs": [
    {
     "data": {
      "image/png": "[encoded data removed]",
      "text/plain": [
       "<Figure size 432x288 with 1 Axes>"
      ]
     },
     "metadata": {
      "needs_background": "light"
     },
     "output_type": "display_data"
    }
   ],
   "source": [
    "table = ka.table(cellText=data_uas,\n",
    "                loc='center')\n",
    "table.set_fontsize(14)\n",
    "table.scale(1,4)\n",
    "\n",
    "ax = ka.gca()\n",
    "ax.axis(False)\n",
    "ka.show()"
   ]
  },
  {
   "cell_type": "code",
   "execution_count": null,
   "id": "f418015e",
   "metadata": {},
   "outputs": [],
   "source": []
  }
 ],
 "metadata": {
  "kernelspec": {
   "display_name": "Python 3",
   "language": "python",
   "name": "python3"
  },
  "language_info": {
   "codemirror_mode": {
    "name": "ipython",
    "version": 3
   },
   "file_extension": ".py",
   "mimetype": "text/x-python",
   "name": "python",
   "nbconvert_exporter": "python",
   "pygments_lexer": "ipython3",
   "version": "3.8.8"
  }
 },
 "nbformat": 4,
 "nbformat_minor": 5
}
